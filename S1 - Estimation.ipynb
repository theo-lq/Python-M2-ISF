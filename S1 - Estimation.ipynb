{
 "cells": [
  {
   "cell_type": "markdown",
   "metadata": {},
   "source": [
    "# Estimation de gain d'un jeu\n",
    "\n",
    "On souhaite jouer au jeu suivant :\n",
    "1. On lance un dé et on gagne le chiffre qui sort.\n",
    "2. Si le chiffre est strictement supérieur à 3, on répète l'étape 1 et le gain augmente.\n",
    "3. Sinon, le jeu s'arrête.\n",
    "\n",
    "Le but de l'exercice est d'estimer l'espérance du gain. Rien de difficile, mais il est important de coder proprement et de le faire avec de la modularité.\n",
    "\n",
    "On commence par coder le jeu dans une fonction :"
   ]
  },
  {
   "cell_type": "code",
   "execution_count": 1,
   "metadata": {
    "scrolled": true
   },
   "outputs": [],
   "source": [
    "from random import randint\n",
    "\n",
    "\n",
    "def game():\n",
    "    dice_roll = randint(1, 6)\n",
    "    gain = dice_roll\n",
    "    \n",
    "    while dice_roll > 3:\n",
    "        dice_roll = randint(1, 6)\n",
    "        gain += dice_roll\n",
    "    \n",
    "    return gain"
   ]
  },
  {
   "cell_type": "markdown",
   "metadata": {},
   "source": [
    "Pour estimer l'espérance de gain de ce jeu, nous allons jouer un grand nombre de fois et faire la moyenne des gains. On utilise donc la loi forte des grands nombre. \n",
    "\n",
    "La moyenne d'une liste de valeur n'est pas codé directement sur Python aussi simplement que la fonction *sum* par exemple, donc on rappelle une synthaxe pour écrire une fonction simple en une ligne. Il ne faut cependant pas en abuser pour la lisibilité du code."
   ]
  },
  {
   "cell_type": "code",
   "execution_count": 2,
   "metadata": {},
   "outputs": [],
   "source": [
    "mean = lambda vector : sum(vector) / len(vector)"
   ]
  },
  {
   "cell_type": "markdown",
   "metadata": {},
   "source": [
    "On code maintenant une fonction qui prend en paramètre une fonction qui va effectuer un jeu et renvoyer le gain. Le second paramètre est fixé avec une valeur par défaut (mais qu'on peut modifier), il correspond au nombre d'essai que l'on va faire."
   ]
  },
  {
   "cell_type": "code",
   "execution_count": 3,
   "metadata": {},
   "outputs": [],
   "source": [
    "def estimation(game, times=10000):\n",
    "    gains = [game() for time in range(times)]\n",
    "    return mean(gains)"
   ]
  },
  {
   "cell_type": "markdown",
   "metadata": {},
   "source": [
    "Regardons l'estimation :"
   ]
  },
  {
   "cell_type": "code",
   "execution_count": 4,
   "metadata": {},
   "outputs": [
    {
     "data": {
      "text/plain": [
       "7.031"
      ]
     },
     "execution_count": 4,
     "metadata": {},
     "output_type": "execute_result"
    }
   ],
   "source": [
    "estimation(game)"
   ]
  },
  {
   "cell_type": "markdown",
   "metadata": {},
   "source": [
    "Et avec plus d'itérations :"
   ]
  },
  {
   "cell_type": "code",
   "execution_count": 5,
   "metadata": {},
   "outputs": [
    {
     "data": {
      "text/plain": [
       "6.98125"
      ]
     },
     "execution_count": 5,
     "metadata": {},
     "output_type": "execute_result"
    }
   ],
   "source": [
    "estimation(game, times=100000)"
   ]
  },
  {
   "cell_type": "markdown",
   "metadata": {},
   "source": [
    "Vérifions que l'estimation est correcte. Soit $X \\sim \\mathrm{U}([\\![ 1, 6 ]\\!])$ et $G$ la variable aléatoire associé au gain du jeu. On a :\n",
    "\n",
    "$$\\mathbb{E}[G] = \\mathbb{P}(X <= 3) \\mathbb{E}[X|X<=3] + \\mathbb{P}(X > 3) (\\mathbb{E}[X|X>3] + \\mathbb{E}[G])$$\n",
    "\n",
    "D'où,\n",
    "$$\\mathbb{E}[G] = \\frac{1}{2}\\times 2 + \\frac{1}{2} (5 + \\mathbb{E}[G])$$\n",
    "\n",
    "Et finalement :\n",
    "\n",
    "$$\\mathbb{E}[G] = 7$$\n",
    "\n",
    "Donc l'estimation est correcte."
   ]
  }
 ],
 "metadata": {
  "kernelspec": {
   "display_name": "Python 3",
   "language": "python",
   "name": "python3"
  },
  "language_info": {
   "codemirror_mode": {
    "name": "ipython",
    "version": 3
   },
   "file_extension": ".py",
   "mimetype": "text/x-python",
   "name": "python",
   "nbconvert_exporter": "python",
   "pygments_lexer": "ipython3",
   "version": "3.6.5"
  }
 },
 "nbformat": 4,
 "nbformat_minor": 2
}
