{
 "cells": [
  {
   "cell_type": "markdown",
   "metadata": {},
   "source": [
    "# Progression arithmétique dans la suite des nombres premiers\n",
    "\n",
    "Le théorème de Green-Tao affirme que pour n'importe quel entier naturel $n$ il existe une suite arithmétique arbitrairement longue constituée uniquement de nombre premier.\n",
    "\n",
    "En s'inspirant de ce résultat, on cherche à trouver des suites arithmétique de raison fixée par l'utilisateur dans la suite des nombre premier.\n",
    "Par exemple, si l'on demande une suite arithmétique de raison 4, on a : $[3, 7, 11]$. \n",
    "\n",
    "Il n'est pas possible de toujours trouver une telle progression. Par exemple pour $r=3$ cela ne fonctionnera pas. On peut montrer que ce n'est pas possible pour les nombres impairs, mais ce n'est pas vrai pour tout les nombres pairs (par exemple $r=16$). Je ne sais pas l'expliquer à ce jour.\n",
    "\n",
    "On reprend les fonctions développées dans le travail sur la décomposition en nombre premier :"
   ]
  },
  {
   "cell_type": "code",
   "execution_count": 1,
   "metadata": {},
   "outputs": [],
   "source": [
    "def divisor_list(number):\n",
    "    answer = [1]\n",
    "    \n",
    "    for candidate in range(2, number + 1):\n",
    "        if number % candidate == 0:\n",
    "            answer.append(candidate)\n",
    "    \n",
    "    return answer\n",
    "\n",
    "\n",
    "\n",
    "\n",
    "\n",
    "def is_prime(number):\n",
    "    divisor_number = len(divisor_list(number))\n",
    "    return divisor_number == 2\n",
    "\n",
    "\n",
    "\n",
    "\n",
    "\n",
    "def prime_list(number):\n",
    "    prime_number_list = []\n",
    "    for candidate in range(2, number + 1):\n",
    "        if is_prime(candidate):\n",
    "            prime_number_list.append(candidate)\n",
    "    return prime_number_list    "
   ]
  },
  {
   "cell_type": "markdown",
   "metadata": {},
   "source": [
    "Bien sur rien n'est optimal ici, on souhaite seulement faire une démonstration. Codons maintenant la fonction principale :"
   ]
  },
  {
   "cell_type": "code",
   "execution_count": 2,
   "metadata": {},
   "outputs": [],
   "source": [
    "def find_arithmetic_progression(space, max_prime=10000):    \n",
    "    candidates = prime_list(max_prime)\n",
    "    progression = []\n",
    "    \n",
    "    for prime_candidate in candidates:\n",
    "        if prime_candidate + space in candidates:\n",
    "            length = 2\n",
    "            while prime_candidate + space * length in candidates:\n",
    "                length += 1\n",
    "            \n",
    "            if length > 2:\n",
    "                progression.append([prime_candidate + i * space for i in range(length)])\n",
    "    \n",
    "    return progression"
   ]
  },
  {
   "cell_type": "markdown",
   "metadata": {},
   "source": [
    "Le fait de calculer à chaque fois la liste des nombres premier jusqu'à *max_prime* ralentit considérablement la fonction, en sachant que le critère de primalité est lui aussi sous-optimal. Rendre cela plus efficace est laissé en exercice.\n",
    "\n",
    "L'idée de la recherche est de tester pour chaque nombre premier si ce nombre augmenter de la raison que l'utilisateur a fixé est encore un nombre présent dans la liste des nombres premier. Si c'est le cas, on continue la progression jusqu'à ce qu'on ne soit plus dans la liste."
   ]
  },
  {
   "cell_type": "code",
   "execution_count": 3,
   "metadata": {},
   "outputs": [
    {
     "data": {
      "text/plain": [
       "[[3, 7, 11]]"
      ]
     },
     "execution_count": 3,
     "metadata": {},
     "output_type": "execute_result"
    }
   ],
   "source": [
    "find_arithmetic_progression(4)"
   ]
  }
 ],
 "metadata": {
  "kernelspec": {
   "display_name": "Python 3",
   "language": "python",
   "name": "python3"
  },
  "language_info": {
   "codemirror_mode": {
    "name": "ipython",
    "version": 3
   },
   "file_extension": ".py",
   "mimetype": "text/x-python",
   "name": "python",
   "nbconvert_exporter": "python",
   "pygments_lexer": "ipython3",
   "version": "3.6.5"
  }
 },
 "nbformat": 4,
 "nbformat_minor": 2
}
