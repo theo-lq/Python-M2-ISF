{
 "cells": [
  {
   "cell_type": "markdown",
   "metadata": {},
   "source": [
    "# Décomposition en facteur premier\n",
    "\n",
    "L'objectif de la séance est de décomposer un nombre en facteur premier. Nous savons que cette décomposition est unique. Par exemple : $$132 = 2^2\\times3\\times11$$\n",
    "\n",
    "Commençons par définir deux fonctions :\n",
    "- Une fonction qui répond à la question : un nombre est-il premier ?\n",
    "- Une fonction qui répond à la question : quels sont les diviseurs premiers d'un nombre ?\n",
    "\n",
    "Avant de commencer à coder ces deux fonctions, nous savons que nous allons devoir faire des tests sur des nombres. Définissons donc une fonction qui nous servira à tester nos fonctions."
   ]
  },
  {
   "cell_type": "code",
   "execution_count": 1,
   "metadata": {},
   "outputs": [],
   "source": [
    "from random import randint\n",
    "\n",
    "def perform_random_test(function, test_number=10, min_number=1, max_number=100):\n",
    "    for _ in range(test_number):\n",
    "        number = randint(min_number, max_number)\n",
    "        result = function(number)\n",
    "        print(number, \":\", result)"
   ]
  },
  {
   "cell_type": "markdown",
   "metadata": {},
   "source": [
    "Nous pouvons à présent coder la première fonction."
   ]
  },
  {
   "cell_type": "code",
   "execution_count": 2,
   "metadata": {},
   "outputs": [],
   "source": [
    "def is_prime(number):\n",
    "    prime = True\n",
    "    divisor = 2\n",
    "    \n",
    "    while prime and divisor < number:\n",
    "        if number % divisor == 0:\n",
    "            prime = False\n",
    "        divisor += 1\n",
    "    \n",
    "    return False if number <= 1 else prime"
   ]
  },
  {
   "cell_type": "markdown",
   "metadata": {},
   "source": [
    "Le **return** n'est pas très esthétique, voyons comment faire mieux :"
   ]
  },
  {
   "cell_type": "code",
   "execution_count": 3,
   "metadata": {},
   "outputs": [],
   "source": [
    "def is_prime(number):\n",
    "    prime = number > 1\n",
    "    divisor = 2\n",
    "    \n",
    "    while prime and divisor < number:\n",
    "        if number % divisor == 0:\n",
    "            prime = False\n",
    "        divisor += 1\n",
    "    \n",
    "    return prime"
   ]
  },
  {
   "cell_type": "markdown",
   "metadata": {},
   "source": [
    "La variable *prime* prendra bien une valeur booléenne cohérente avec ce que l'on souhaite, et on obtient un code plus propre. Remarquons que l'efficacité du code en terme d'opérations est un tout petit peu inférieure dans cette version par rapport à la précédente.\n",
    "\n",
    "Egalement, nous aurions pu écrire dans la boucle while la ligne suivante : "
   ]
  },
  {
   "cell_type": "code",
   "execution_count": null,
   "metadata": {},
   "outputs": [],
   "source": [
    "prime = not(number % divisor == 0)"
   ]
  },
  {
   "cell_type": "markdown",
   "metadata": {},
   "source": [
    "Ce qui nous aurait évité d'exploiter un *if*. Cependant, nous perdons en lisibilité : nous n'utiliserons pas cette idée.\n",
    "Testons notre fonction."
   ]
  },
  {
   "cell_type": "code",
   "execution_count": 4,
   "metadata": {},
   "outputs": [
    {
     "name": "stdout",
     "output_type": "stream",
     "text": [
      "6 : False\n",
      "77 : False\n",
      "11 : True\n",
      "61 : True\n",
      "26 : False\n",
      "66 : False\n",
      "16 : False\n",
      "10 : False\n",
      "55 : False\n",
      "70 : False\n"
     ]
    }
   ],
   "source": [
    "perform_random_test(is_prime)"
   ]
  },
  {
   "cell_type": "markdown",
   "metadata": {},
   "source": [
    "Passons à la deuxième fonction : "
   ]
  },
  {
   "cell_type": "code",
   "execution_count": 5,
   "metadata": {},
   "outputs": [],
   "source": [
    "def get_prime_divisor(number):\n",
    "    prime_divisor_list = []\n",
    "    \n",
    "    for candidate in range (2, number + 1): \n",
    "        if number % candidate == 0 and is_prime(candidate):\n",
    "            prime_divisor_list.append(candidate)\n",
    "    \n",
    "    return prime_divisor_list"
   ]
  },
  {
   "cell_type": "markdown",
   "metadata": {},
   "source": [
    "Nous réexploitons la fonction qui nous donne l'information de la primalité d'un nombre. Nous allons jusqu'au nombre lui-même parce que s'il est premier, alors il est son propre diviseur premier. Vérifions la fonction."
   ]
  },
  {
   "cell_type": "code",
   "execution_count": 6,
   "metadata": {},
   "outputs": [
    {
     "name": "stdout",
     "output_type": "stream",
     "text": [
      "47 : [47]\n",
      "60 : [2, 3, 5]\n",
      "30 : [2, 3, 5]\n",
      "94 : [2, 47]\n",
      "30 : [2, 3, 5]\n",
      "86 : [2, 43]\n",
      "75 : [3, 5]\n",
      "61 : [61]\n",
      "56 : [2, 7]\n",
      "56 : [2, 7]\n"
     ]
    }
   ],
   "source": [
    "perform_random_test(get_prime_divisor)"
   ]
  },
  {
   "cell_type": "markdown",
   "metadata": {},
   "source": [
    "Nous avons maintenant l'ensemble des fonctions nécessaire pour décomposer en facteur premiers un nombre donné."
   ]
  },
  {
   "cell_type": "code",
   "execution_count": 7,
   "metadata": {},
   "outputs": [],
   "source": [
    "def prime_decomposition(number): \n",
    "    decomposition = []\n",
    "    prime_divisor_list = get_prime_divisor(number)\n",
    "    \n",
    "    for prime_divisor in prime_divisor_list :\n",
    "        while number % prime_divisor == 0: \n",
    "            decomposition.append(prime_divisor)\n",
    "            number = number / prime_divisor        \n",
    "            if number == 1:\n",
    "                return decomposition \n",
    "    \n",
    "    return [number]"
   ]
  },
  {
   "cell_type": "markdown",
   "metadata": {},
   "source": [
    "Si le nombre dont on cherche la décomposition en nombre premier n'a pas de diviseur premier, alors nous renvoyons directement le nombre. Ainsi, pour le nombre 1, le résultat sera [1].\n",
    "\n",
    "A nouveau, vérifions."
   ]
  },
  {
   "cell_type": "code",
   "execution_count": 8,
   "metadata": {},
   "outputs": [
    {
     "name": "stdout",
     "output_type": "stream",
     "text": [
      "98 : [2, 7, 7]\n",
      "15 : [3, 5]\n",
      "32 : [2, 2, 2, 2, 2]\n",
      "14 : [2, 7]\n",
      "14 : [2, 7]\n",
      "46 : [2, 23]\n",
      "77 : [7, 11]\n",
      "49 : [7, 7]\n",
      "34 : [2, 17]\n",
      "2 : [2]\n"
     ]
    }
   ],
   "source": [
    "perform_random_test(prime_decomposition)"
   ]
  },
  {
   "cell_type": "markdown",
   "metadata": {},
   "source": [
    "L'affichage n'est pas très agréable, nous souhaitons faire mieux que ça. Pour cela, nous avons besoin d'une fonction qui est capable de compter les occurences d'une valeur dans une liste."
   ]
  },
  {
   "cell_type": "code",
   "execution_count": 9,
   "metadata": {},
   "outputs": [],
   "source": [
    "get_value_occurence = lambda value_list : [[x, value_list.count(x)] for x in sorted(set(value_list))]"
   ]
  },
  {
   "cell_type": "markdown",
   "metadata": {},
   "source": [
    "Nous renvoyons une liste construite en compréhension. Nous comptons pour chaque valeur unique triée de manière croissante (c'est assuré grâce aux fonctions *set* et *sorted* respectivement) son nombre d'occurence dans la liste initiale.\n",
    "Voyons sur un exemple :"
   ]
  },
  {
   "cell_type": "code",
   "execution_count": 10,
   "metadata": {},
   "outputs": [
    {
     "name": "stdout",
     "output_type": "stream",
     "text": [
      "5445 : [3, 3, 5, 11, 11] -> [[3, 2], [5, 1], [11, 2]]\n"
     ]
    }
   ],
   "source": [
    "number = 5445\n",
    "decomposition = prime_decomposition(number)\n",
    "occurence_list = get_value_occurence(decomposition)\n",
    "\n",
    "print(number, \":\", decomposition, \"->\", occurence_list)"
   ]
  },
  {
   "cell_type": "markdown",
   "metadata": {},
   "source": [
    "Nous avons avancé, il ne nous reste plus qu'à travailler l'affichage :"
   ]
  },
  {
   "cell_type": "code",
   "execution_count": 11,
   "metadata": {},
   "outputs": [],
   "source": [
    "def fancy_printing(number):\n",
    "    \n",
    "    \n",
    "    \n",
    "    def number_exposant_layout(number_exposant):\n",
    "        number, exposant = tuple(number_exposant)\n",
    "        string = str(number) + ((\"^\" + str(exposant)) if exposant > 1 else \"\")\n",
    "        return string\n",
    "    \n",
    "    \n",
    "    \n",
    "    prime_decomposition_list = prime_decomposition(number)\n",
    "    number_exposant_list = get_value_occurence(prime_decomposition_list)\n",
    "    number_exposant_list = [number_exposant_layout(element) for element in number_exposant_list]\n",
    "    \n",
    "    \n",
    "    answer = str(number) + \" = \" + \" * \".join(number_exposant_list)\n",
    "    return answer"
   ]
  },
  {
   "cell_type": "markdown",
   "metadata": {},
   "source": [
    "Voyons sur plusieurs exemples aléatoires l'affichage :"
   ]
  },
  {
   "cell_type": "code",
   "execution_count": 12,
   "metadata": {},
   "outputs": [
    {
     "name": "stdout",
     "output_type": "stream",
     "text": [
      "29 : 29 = 29\n",
      "19 : 19 = 19\n",
      "90 : 90 = 2 * 3^2 * 5\n",
      "22 : 22 = 2 * 11\n",
      "44 : 44 = 2^2 * 11\n",
      "10 : 10 = 2 * 5\n",
      "75 : 75 = 3 * 5^2\n",
      "32 : 32 = 2^5\n",
      "92 : 92 = 2^2 * 23\n",
      "63 : 63 = 3^2 * 7\n"
     ]
    }
   ],
   "source": [
    "perform_random_test(fancy_printing)"
   ]
  }
 ],
 "metadata": {
  "kernelspec": {
   "display_name": "Python 3",
   "language": "python",
   "name": "python3"
  },
  "language_info": {
   "codemirror_mode": {
    "name": "ipython",
    "version": 3
   },
   "file_extension": ".py",
   "mimetype": "text/x-python",
   "name": "python",
   "nbconvert_exporter": "python",
   "pygments_lexer": "ipython3",
   "version": "3.6.5"
  }
 },
 "nbformat": 4,
 "nbformat_minor": 5
}
